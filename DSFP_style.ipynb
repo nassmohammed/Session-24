{
 "cells": [
  {
   "cell_type": "markdown",
   "id": "397e198a",
   "metadata": {},
   "source": [
    "## Hierarchical Bayesian Inference\n",
    "**LSST-DA DSFP Ficticious Session -24i**\n",
    "\n",
    "*By: Nasser Mohammed*\n",
    "\n",
    "In this notebook you will construct a likelihood function with a prior of your choice, and use a sampler of your design to explore the posterior of the problem at hand."
   ]
  },
  {
   "cell_type": "markdown",
   "id": "73b134d1",
   "metadata": {},
   "source": [
    "### Problem 1) Exploratory Data Analysis\n",
    "\n",
    "We've imported our data, but before we dive into fitting it we want to build some intuition for the data."
   ]
  },
  {
   "cell_type": "code",
   "execution_count": null,
   "id": "8018cee4",
   "metadata": {},
   "outputs": [],
   "source": [
    "def draw():\n",
    "    # return draw from "
   ]
  },
  {
   "cell_type": "markdown",
   "id": "5685d2d7",
   "metadata": {},
   "source": [
    "### Problem 2) Construct Functions\n",
    "\n",
    "Now that we have looked at our data, we can create our likelihood function"
   ]
  },
  {
   "cell_type": "code",
   "execution_count": null,
   "id": "4d22171b",
   "metadata": {},
   "outputs": [],
   "source": [
    "def neglnlikelihood(theta, data, data_err):\n",
    "    return # return the negative of the log likelihood given the parameters."
   ]
  },
  {
   "cell_type": "code",
   "execution_count": null,
   "id": "149911e0",
   "metadata": {},
   "outputs": [],
   "source": [
    "def lnprior(theta):\n",
    "    return #"
   ]
  },
  {
   "cell_type": "code",
   "execution_count": 1,
   "id": "4bc90c22",
   "metadata": {},
   "outputs": [],
   "source": [
    "def lnprob(theta):\n",
    "    return #numerator from Bayes theorem"
   ]
  }
 ],
 "metadata": {
  "kernelspec": {
   "display_name": "DSFP",
   "language": "python",
   "name": "python3"
  },
  "language_info": {
   "codemirror_mode": {
    "name": "ipython",
    "version": 3
   },
   "file_extension": ".py",
   "mimetype": "text/x-python",
   "name": "python",
   "nbconvert_exporter": "python",
   "pygments_lexer": "ipython3",
   "version": "3.8.20"
  }
 },
 "nbformat": 4,
 "nbformat_minor": 5
}
