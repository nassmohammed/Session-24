{
 "cells": [
  {
   "cell_type": "markdown",
   "id": "14681fd8-7da3-43fa-8679-5d087502dbc1",
   "metadata": {},
   "source": [
    "# ISR Explorations\n",
    "\n",
    "This notebook is meant to give a starting point for exploring the calibration products used in processing Rubin images.\n",
    "\n",
    "The data are from LSSTComCam, processed as part of Data Preview 1."
   ]
  },
  {
   "cell_type": "code",
   "execution_count": 74,
   "id": "9887589f-7e80-4dbb-8538-d2660cbd0b47",
   "metadata": {
    "execution": {
     "iopub.execute_input": "2025-09-15T18:09:04.588394Z",
     "iopub.status.busy": "2025-09-15T18:09:04.588111Z",
     "iopub.status.idle": "2025-09-15T18:09:05.101031Z",
     "shell.execute_reply": "2025-09-15T18:09:05.100342Z",
     "shell.execute_reply.started": "2025-09-15T18:09:04.588375Z"
    }
   },
   "outputs": [],
   "source": [
    "# Some initial imports\n",
    "\n",
    "import lsst.daf.butler as dafButler\n",
    "import lsst.afw.display as afwDisplay\n",
    "afwDisplay.setDefaultBackend('firefly')\n",
    "import astropy.convolution\n",
    "import numpy as np\n",
    "import matplotlib.pyplot as plt"
   ]
  },
  {
   "cell_type": "markdown",
   "id": "c38c22c2-e9ed-4ab3-a911-b8f892870d06",
   "metadata": {},
   "source": [
    "## Visualizing Flats\n",
    "\n",
    "Many of the effects that need correction as part of ISR are apparent in the flat field images. Flat field images can make many effects more readily visible since they're an image of a uniform illumination, so you can see spatial structure that you wouldn't see from just images of stars.\n",
    "\n",
    "We're going to use Rubin's \"Butler\" to get the data, and we have to do a slightly unusual trick. As part of the image processing pipelines, the Butler already knows which flat field image is the right one for any given science exposure. So to get the flat, we actually specify which science exposure we want to \"correct\", even though we're really going to be just looking at the flat. "
   ]
  },
  {
   "cell_type": "code",
   "execution_count": 54,
   "id": "effec07a-e886-4d4e-8a62-659badfc7dee",
   "metadata": {
    "execution": {
     "iopub.execute_input": "2025-09-15T15:43:36.693870Z",
     "iopub.status.busy": "2025-09-15T15:43:36.693568Z",
     "iopub.status.idle": "2025-09-15T15:43:36.873932Z",
     "shell.execute_reply": "2025-09-15T15:43:36.873121Z",
     "shell.execute_reply.started": "2025-09-15T15:43:36.693851Z"
    }
   },
   "outputs": [],
   "source": [
    "b = dafButler.Butler(\"dp1\", collections=[\"LSSTComCam/DP1\"])"
   ]
  },
  {
   "cell_type": "markdown",
   "id": "3b8f9065-e42b-4075-9b3e-dbc366c75d69",
   "metadata": {},
   "source": [
    "Because the flat fields are basically the same for every image in DP1, it doesn't particularly matter which exposure we ask for. But we do want to look at the right filter, so I've made a table of some example exposure numbers that you can just plug in:\n",
    "\n",
    "- u - 2024110900195\n",
    "- g - 2024110800266\n",
    "- r - 2024110800246\n",
    "- i - 2024110800245\n",
    "- z - 2024111200285\n",
    "- y - 2024111900091\n",
    "\n",
    "So to get a flat of a particular band, substitute that exposure ID into the following command. Also ComCam has 9 detectors, so you can pick detectors 0 through 8."
   ]
  },
  {
   "cell_type": "code",
   "execution_count": 92,
   "id": "d910493b-75db-41d3-996a-3369efc8f8d8",
   "metadata": {
    "execution": {
     "iopub.execute_input": "2025-09-15T19:32:36.124610Z",
     "iopub.status.busy": "2025-09-15T19:32:36.124284Z",
     "iopub.status.idle": "2025-09-15T19:32:38.430635Z",
     "shell.execute_reply": "2025-09-15T19:32:38.430025Z",
     "shell.execute_reply.started": "2025-09-15T19:32:36.124584Z"
    }
   },
   "outputs": [],
   "source": [
    "flat = b.get(\"flat\", detector=1,\n",
    "                  instrument='LSSTComCam',\n",
    "                  exposure=2024110800246)"
   ]
  },
  {
   "cell_type": "markdown",
   "id": "d9b14ad3-0a92-4509-9dbd-283d28045328",
   "metadata": {},
   "source": [
    "Then we're going to create a new image display tab in jupyter:\n"
   ]
  },
  {
   "cell_type": "code",
   "execution_count": 80,
   "id": "58654f3d-73f8-4db0-ba5a-a182705425a7",
   "metadata": {
    "execution": {
     "iopub.execute_input": "2025-09-15T19:15:46.839737Z",
     "iopub.status.busy": "2025-09-15T19:15:46.839459Z",
     "iopub.status.idle": "2025-09-15T19:15:46.886999Z",
     "shell.execute_reply": "2025-09-15T19:15:46.886500Z",
     "shell.execute_reply.started": "2025-09-15T19:15:46.839713Z"
    }
   },
   "outputs": [],
   "source": [
    "afw_display = afwDisplay.Display(frame=2)"
   ]
  },
  {
   "cell_type": "markdown",
   "id": "6362a8d6-2cf4-452f-be09-dcdf9065ca17",
   "metadata": {},
   "source": [
    "And this is the command to display that image:"
   ]
  },
  {
   "cell_type": "code",
   "execution_count": 93,
   "id": "5086465a-951d-4962-adf5-9254e27a8b05",
   "metadata": {
    "execution": {
     "iopub.execute_input": "2025-09-15T19:32:41.055495Z",
     "iopub.status.busy": "2025-09-15T19:32:41.055123Z",
     "iopub.status.idle": "2025-09-15T19:32:42.276523Z",
     "shell.execute_reply": "2025-09-15T19:32:42.275966Z",
     "shell.execute_reply.started": "2025-09-15T19:32:41.055463Z"
    }
   },
   "outputs": [],
   "source": [
    "afw_display.mtv(flat)"
   ]
  },
  {
   "cell_type": "markdown",
   "id": "2800d3a6-c6c9-4f70-a751-a55012587a5c",
   "metadata": {
    "execution": {
     "iopub.execute_input": "2025-09-15T19:19:33.593336Z",
     "iopub.status.busy": "2025-09-15T19:19:33.593019Z",
     "iopub.status.idle": "2025-09-15T19:19:33.597111Z",
     "shell.execute_reply": "2025-09-15T19:19:33.596467Z",
     "shell.execute_reply.started": "2025-09-15T19:19:33.593315Z"
    }
   },
   "source": [
    "Also note that ComCam detectors are arranged like:\n",
    "\n",
    "|   |   |   |\n",
    "| - | - | - |\n",
    "| 6 | 7 | 8 |\n",
    "| 3 | 4 | 5 |\n",
    "| 0 | 1 | 2 |"
   ]
  },
  {
   "cell_type": "markdown",
   "id": "00fe3c6d-70ed-42f0-a192-6d3fda6374f5",
   "metadata": {},
   "source": [
    "## Exploration time\n",
    "\n",
    "Ok, now that you have the mechanics, pick one of the bands and sensors and take a very careful look. Let's inventory all of the features you see, and then we will try to figure out as much about their origins as we can from the flat field images.\n",
    "\n",
    "Questions to ask about each feature:\n",
    "- What does its shape/position tell you?\n",
    "- Is it specific to an amplifier, or a detector, or all of the detectors?\n",
    "- Is it specific to one band? Or is it in all bands?\n",
    "- Is it chromatic -- does it have different behavior in different bands?\n",
    "- Does it affect photons or electrons?\n",
    "- Where in the signal chain (from photons to counts in the image) does it get introduced?\n",
    "- Is the flat really the right way to correct it?\n",
    "\n",
    "Some effects you might notice by-eye, but you get better clarity by plotting them in some physical space. That could be either\n",
    "- versus detector coordinates, if you think it's something happening in the detector\n",
    "- versus focal plane coordinates, if it's something optical\n",
    "\n"
   ]
  },
  {
   "cell_type": "markdown",
   "id": "11981705-31e4-44a6-b1d7-a7940800c45b",
   "metadata": {},
   "source": [
    "A few other hints for reference: if you want to look at the actual \"science\" image for comparison, you can get that with:"
   ]
  },
  {
   "cell_type": "code",
   "execution_count": 97,
   "id": "90732640-87ef-433d-8d7c-0cf925e01c9d",
   "metadata": {
    "execution": {
     "iopub.execute_input": "2025-09-16T14:28:54.006903Z",
     "iopub.status.busy": "2025-09-16T14:28:54.006602Z",
     "iopub.status.idle": "2025-09-16T14:28:55.875090Z",
     "shell.execute_reply": "2025-09-16T14:28:55.874237Z",
     "shell.execute_reply.started": "2025-09-16T14:28:54.006882Z"
    }
   },
   "outputs": [],
   "source": [
    "\n",
    "visit_image = b.get(\"visit_image\", detector=1, \n",
    "                  instrument='LSSTComCam',\n",
    "                  visit=2024110800246)"
   ]
  },
  {
   "cell_type": "code",
   "execution_count": 98,
   "id": "3b43a2a5-1366-400f-9153-52e809ba43d7",
   "metadata": {
    "execution": {
     "iopub.execute_input": "2025-09-16T14:28:56.714816Z",
     "iopub.status.busy": "2025-09-16T14:28:56.714458Z",
     "iopub.status.idle": "2025-09-16T14:28:58.039038Z",
     "shell.execute_reply": "2025-09-16T14:28:58.038441Z",
     "shell.execute_reply.started": "2025-09-16T14:28:56.714775Z"
    }
   },
   "outputs": [],
   "source": [
    "afw_display.mtv(visit_image)"
   ]
  },
  {
   "cell_type": "markdown",
   "id": "a2353437-6a61-4cec-b3d3-dfdcc4f8d78c",
   "metadata": {},
   "source": [
    "You can also get the raw image by asking for `raw`.\n",
    "\n",
    "Also sometimes the noise introduces Moiré patterns that can make it hard to visualize some larger scale effects. A convenient way to see fainter structures is to smooth the image a little bit before displaying it. Astropy can do this, with:"
   ]
  },
  {
   "cell_type": "code",
   "execution_count": null,
   "id": "7249364a-7fd5-45db-91d3-fd1e7e68b585",
   "metadata": {},
   "outputs": [],
   "source": [
    "\n",
    "flat_smoothed = astropy.convolution.convolve(flat.image.array, astropy.convolution.Gaussian2DKernel(2))\n"
   ]
  },
  {
   "cell_type": "markdown",
   "id": "3b67ad05-0ed2-4ff7-8ace-60d34e9e390c",
   "metadata": {},
   "source": [
    "To visualize it back in the firefly viewer, you'll need to put the convolved results \"back\" in the flat. But note that this now erases the original flat field image, so if you want to see it again you'll have to go ask the butler for it again."
   ]
  },
  {
   "cell_type": "code",
   "execution_count": 48,
   "id": "3694f5a9-9116-4656-a6e0-f3955a64fb02",
   "metadata": {
    "execution": {
     "iopub.execute_input": "2025-09-15T02:17:48.004051Z",
     "iopub.status.busy": "2025-09-15T02:17:48.003715Z",
     "iopub.status.idle": "2025-09-15T02:17:48.006875Z",
     "shell.execute_reply": "2025-09-15T02:17:48.006332Z",
     "shell.execute_reply.started": "2025-09-15T02:17:48.004030Z"
    }
   },
   "outputs": [],
   "source": [
    "# Commenting this out just so you don't accidentally overwrite the image. Uncomment the next lines to view the convolved image in firefly.\n",
    "# flat.image.array = flat_smoothed\n",
    "#afw_display.mtv(flat)"
   ]
  },
  {
   "cell_type": "markdown",
   "id": "bab20bf3-3d18-4957-b1fc-5acd1c8281b7",
   "metadata": {},
   "source": [
    "# Detector Gain\n",
    "\n",
    "**Consider this optional! Spending time on the flats is more important**\n",
    "\n",
    "\n",
    "## Photon Transfer Curve\n",
    "\n",
    "\n",
    "The \"Photon Transfer Curve\" is the name given to the relationship between the signal level and the noise level in a sensor. We're going to do a few experiments to show how it works in principle, and then we'll look at some real images and make some diagnostic measurements.\n",
    "\n",
    "\n",
    "First we need a model of the noise in CCD image. I'm going to give this to you so we all start out on the same page\n"
   ]
  },
  {
   "cell_type": "code",
   "execution_count": 82,
   "id": "fb1500bd-8387-40d0-bc88-7329dce6e0bf",
   "metadata": {
    "execution": {
     "iopub.execute_input": "2025-09-15T19:17:39.351507Z",
     "iopub.status.busy": "2025-09-15T19:17:39.351207Z",
     "iopub.status.idle": "2025-09-15T19:17:39.355049Z",
     "shell.execute_reply": "2025-09-15T19:17:39.354558Z",
     "shell.execute_reply.started": "2025-09-15T19:17:39.351488Z"
    }
   },
   "outputs": [],
   "source": [
    "def simulated_image(signal_level, read_noise, gain):\n",
    "    \"\"\"\n",
    "    Return a 1-D simulated \"image\" with the noise properties of\n",
    "    a CCD sensor. The image is always 1000 pixels long.\n",
    "    \n",
    "    signal_level is the mean number of electrons in each pixel.\n",
    "    read_noise is the noise of the readout amplifier, in electrons.\n",
    "    gain is the number of electrons per ADU.\n",
    "    \n",
    "    \"\"\"\n",
    "    return (1/gain) * (read_noise*np.random.randn(1000) +  np.random.poisson(signal_level, size=1000))"
   ]
  },
  {
   "cell_type": "markdown",
   "id": "7230b5b9-4fcf-4cb7-94eb-1136c73023f7",
   "metadata": {},
   "source": [
    "Before diving in to programming, take a careful look at the components in the simulated image. What are the two noise sources, and why do they have that functional form? We're going to be looking a lot at the image \"gain\"; does it make sense how that is applied?\n",
    "\n",
    "Let's make some simulations. What we want to do is loop over a set of input levels light levels, from zero to \"full well\" capacity (on order of 10,000 electrons). For each simulated image, we want to measure the mean signal level (because that's what we see as users of a CCD) and the standard deviation of that image. Save those in two lists, but at the end convert those back to numpy arrays to make downstream usage easier.\n",
    "\n",
    "For right now, set the read noise to 5, and the gain to 0.8."
   ]
  },
  {
   "cell_type": "code",
   "execution_count": 83,
   "id": "4181da66-2dd3-4296-848f-ef54d43bd7d9",
   "metadata": {
    "execution": {
     "iopub.execute_input": "2025-09-15T19:17:39.866783Z",
     "iopub.status.busy": "2025-09-15T19:17:39.866475Z",
     "iopub.status.idle": "2025-09-15T19:17:39.875874Z",
     "shell.execute_reply": "2025-09-15T19:17:39.875359Z",
     "shell.execute_reply.started": "2025-09-15T19:17:39.866763Z"
    }
   },
   "outputs": [],
   "source": [
    "# Answer\n",
    "noise_levels = []\n",
    "measured_signal_levels = []\n",
    "input_signal_levels = np.logspace(0, 4, 30)\n",
    "\n",
    "for input_signal_level in input_signal_levels:\n",
    "    image = simulated_image(input_signal_level, 5, 0.8)\n",
    "    noise_levels.append(np.std(image))\n",
    "    measured_signal_levels.append(np.mean(image))\n",
    "\n",
    "noise_levels = np.array(noise_levels)\n",
    "measured_signal_levels = np.array(measured_signal_levels)"
   ]
  },
  {
   "cell_type": "markdown",
   "id": "51d6d195-ad56-4249-a121-90b8a8b09376",
   "metadata": {},
   "source": [
    "Plot the noise vs. the measured signal level, on a log-log plot."
   ]
  },
  {
   "cell_type": "markdown",
   "id": "9fe58ceb-dffd-4c80-ad26-a7dc2b1ac60f",
   "metadata": {},
   "source": [
    "What is the behavior you see? What are the two different noise regimes?\n",
    "\n",
    "Fit a straight line to the \"bright\" portion of the data (high signal levels) and print the resulting coefficients. Remember that you're looking at a log-log plot, and so you want to fit the logs of the variables. You can add this to the plot in the cell above.\n",
    "\n",
    "Why does the line have that value of the slope?"
   ]
  },
  {
   "cell_type": "code",
   "execution_count": 84,
   "id": "746f31c6-a1ae-449d-bb1a-ee1248809baa",
   "metadata": {
    "execution": {
     "iopub.execute_input": "2025-09-15T19:17:40.645662Z",
     "iopub.status.busy": "2025-09-15T19:17:40.645370Z",
     "iopub.status.idle": "2025-09-15T19:17:40.970118Z",
     "shell.execute_reply": "2025-09-15T19:17:40.969607Z",
     "shell.execute_reply.started": "2025-09-15T19:17:40.645641Z"
    }
   },
   "outputs": [
    {
     "name": "stdout",
     "output_type": "stream",
     "text": [
      "[0.47288634 0.1447549 ]\n"
     ]
    },
    {
     "data": {
      "text/plain": [
       "Text(0.5, 0, 'Measured Signal Level')"
      ]
     },
     "execution_count": 84,
     "metadata": {},
     "output_type": "execute_result"
    },
    {
     "data": {
      "image/png": "[encoded data removed]",
      "text/plain": [
       "<Figure size 640x480 with 1 Axes>"
      ]
     },
     "metadata": {},
     "output_type": "display_data"
    }
   ],
   "source": [
    "# Answer\n",
    "high_counts, = np.where(measured_signal_levels > 100)\n",
    "fit = np.polyfit(np.log10(measured_signal_levels[high_counts]), np.log10(noise_levels[high_counts]), 1)\n",
    "print(fit)\n",
    "x = np.logspace(2, 4, 10)\n",
    "plt.loglog(measured_signal_levels, noise_levels, 'ko')\n",
    "plt.plot(x, 10**(fit[0]*np.log10(x) ), '-')\n",
    "plt.ylabel(\"Standard Deviation\")\n",
    "plt.xlabel(\"Measured Signal Level\")"
   ]
  },
  {
   "cell_type": "markdown",
   "id": "dc9809ce-6723-4f32-881c-8a29b11b03ad",
   "metadata": {},
   "source": [
    "Now we're going to plot something slightly different. Plot the *variance* this time, and on a linear plot instead of log-log (again vs. measured signal level). Fit a straight line to the data (in linear space) and print the coefficients. Also print the *reciprocal* of the slope.\n",
    "\n",
    "Where did this slope come from? "
   ]
  },
  {
   "cell_type": "code",
   "execution_count": 85,
   "id": "7b54406d-7440-4078-920c-5b265935272b",
   "metadata": {
    "execution": {
     "iopub.execute_input": "2025-09-15T19:17:41.251313Z",
     "iopub.status.busy": "2025-09-15T19:17:41.251044Z",
     "iopub.status.idle": "2025-09-15T19:17:41.376285Z",
     "shell.execute_reply": "2025-09-15T19:17:41.375767Z",
     "shell.execute_reply.started": "2025-09-15T19:17:41.251294Z"
    }
   },
   "outputs": [
    {
     "name": "stdout",
     "output_type": "stream",
     "text": [
      "[0.82016243 0.01775465]\n"
     ]
    },
    {
     "data": {
      "text/plain": [
       "Text(0.5, 0, 'Measured Signal Level')"
      ]
     },
     "execution_count": 85,
     "metadata": {},
     "output_type": "execute_result"
    },
    {
     "data": {
      "image/png": "[encoded data removed]",
      "text/plain": [
       "<Figure size 640x480 with 1 Axes>"
      ]
     },
     "metadata": {},
     "output_type": "display_data"
    }
   ],
   "source": [
    "# Answer\n",
    "high_counts, = np.where(measured_signal_levels > 100)\n",
    "\n",
    "plt.plot(measured_signal_levels[high_counts], (noise_levels[high_counts])**2, 'ko')\n",
    "fit = np.polyfit(measured_signal_levels, noise_levels**2, 1)\n",
    "print(1/fit)\n",
    "\n",
    "plt.plot(x, fit[0] * x, '-')\n",
    "plt.ylabel(\"Variance\")\n",
    "plt.xlabel(\"Measured Signal Level\")"
   ]
  },
  {
   "cell_type": "markdown",
   "id": "91ba64e4-c176-4616-8208-ab3cb5032274",
   "metadata": {
    "execution": {
     "iopub.execute_input": "2025-09-15T18:09:51.922314Z",
     "iopub.status.busy": "2025-09-15T18:09:51.922014Z",
     "iopub.status.idle": "2025-09-15T18:09:51.927271Z",
     "shell.execute_reply": "2025-09-15T18:09:51.926580Z",
     "shell.execute_reply.started": "2025-09-15T18:09:51.922292Z"
    }
   },
   "source": [
    "The slope here is related to the gain (either proportionally or inversely, depending on how one chooses to define gain). This can be summarized as\n",
    "\n",
    "$$ \\frac{1}{\\textrm{gain}} =  \\langle \\frac{\\textrm{Variance}}{\\textrm{Mean Signal Level}} \\rangle $$\n",
    "\n",
    "It's a clever and useful trick, or at least it seems like a trick, because the standard deviation plot wasn't affected by the gain at all. Go back and try varying the gain and re-run the plots, and you'll see what does and doesn't change.\n",
    "\n",
    "One way to think of it is that the measured signal level is affected linearly by the gain, but the variance is affected by the square of the gain. Dividing these two gives you a linear relation back, but when dividing the square root of the variance, the gain cancels out.\n"
   ]
  },
  {
   "cell_type": "code",
   "execution_count": null,
   "id": "663fbe9a-11e6-468d-8ad9-151dc1321399",
   "metadata": {},
   "outputs": [],
   "source": []
  }
 ],
 "metadata": {
  "kernelspec": {
   "display_name": "LSST",
   "language": "python",
   "name": "lsst"
  },
  "language_info": {
   "codemirror_mode": {
    "name": "ipython",
    "version": 3
   },
   "file_extension": ".py",
   "mimetype": "text/x-python",
   "name": "python",
   "nbconvert_exporter": "python",
   "pygments_lexer": "ipython3",
   "version": "3.12.11"
  }
 },
 "nbformat": 4,
 "nbformat_minor": 5
}
