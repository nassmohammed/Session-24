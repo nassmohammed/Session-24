{
 "cells": [
  {
   "cell_type": "code",
   "execution_count": null,
   "id": "12ea0f40-2244-4e7a-bb8e-f15356087f82",
   "metadata": {},
   "outputs": [],
   "source": [
    "%load_ext autoreload\n",
    "%autoreload 2"
   ]
  },
  {
   "cell_type": "code",
   "execution_count": null,
   "id": "2e83dbe2-08fe-482f-a196-b0ac6f0dfb87",
   "metadata": {},
   "outputs": [],
   "source": [
    "import numpy as np\n",
    "import matplotlib.pyplot as plt\n",
    "\n",
    "from scipy.special import gammaincinv, gammainc, gamma"
   ]
  },
  {
   "cell_type": "code",
   "execution_count": null,
   "id": "68f992e6-ff9d-431a-907b-68de7c328175",
   "metadata": {},
   "outputs": [],
   "source": [
    "from convenience_functions import *"
   ]
  },
  {
   "cell_type": "markdown",
   "id": "9bfa4f83-56c0-41a0-bae6-78a182f6a956",
   "metadata": {},
   "source": [
    "# Problem 1: Building a galaxy scene"
   ]
  },
  {
   "cell_type": "markdown",
   "id": "50b10a89-721d-4f6e-b347-22227679e724",
   "metadata": {},
   "source": [
    "## [1a] Write down the 2D Sersic Model"
   ]
  },
  {
   "cell_type": "markdown",
   "id": "5893c03d-8263-4fe2-bdc8-986bbd16666d",
   "metadata": {},
   "source": [
    "First, let's implement a Sersic model of a galaxy. The Sersic profile is written as:\n",
    "\n",
    "$$ I(x,y) = I_e \\exp\\left( -b_n\\left[ \\left( \\frac{r(x,y)}{R_{\\rm eff}}\\right)^{(1/n)} - 1 \\right] \\right)$$\n",
    "\n",
    "where $I_e$ is the amplitude of the profile, $n$ the Sersic index, $R_{\\rm eff}$ is the effective radius, and $b_n$ is defined such that $\\Gamma(2n) = 2\\gamma(2n,b_n)$ where $\\Gamma(w)$ is the gamma function and $\\gamma(w,z)$ is the lower incomplete gamma function.\n",
    "\n",
    "$r(x,y)$ is our distance metric, defined as:\n",
    "\n",
    "$$ r(x,y)^2 = (x-x_0)^2 + (y-y_0)^2(1-\\epsilon)^{-2}$$\n",
    "\n",
    "for an ellipticity $\\epsilon$ -- you might notice that we're not dealing with rotation here, for simplicity, but rotating the ellipse can be done by transforming $r(x,y)$ given some position angle."
   ]
  },
  {
   "cell_type": "code",
   "execution_count": null,
   "id": "9e921b82-c0c9-4f77-8dd8-3cd7370630a8",
   "metadata": {},
   "outputs": [],
   "source": [
    "def sersic2d ( x, y, amplitude, n, r_eff, ellip, x_0=None, y_0=None ):\n",
    "    if x_0 is None:\n",
    "        x_0 = x.shape[1]//2\n",
    "    if y_0 is None:\n",
    "        y_0 = y.shape[0]//2\n",
    "\n",
    "    x = # center x around x_0\n",
    "    y = # center y around y_0\n",
    "    \n",
    "    bn = gammaincinv(2.*n, 0.5) # \\\\ I'm giving you this for free to save you a syntax look-up\n",
    "    yb = # account for ellipticity given that y is aligned with the semi-minor axis\n",
    "    rnormed = # compute the elliptical radius (r(x,y) above)\n",
    "\n",
    "    value = # Sersic SB profile\n",
    "    return value"
   ]
  },
  {
   "cell_type": "markdown",
   "id": "a6306ff8-d48b-4ac4-87ee-0d07ab0c9793",
   "metadata": {},
   "source": [
    "Another useful metric for this problem set will be the total flux of the Sersic model. Feel free to integrate the profile directly, or use this [analytic solution](https://ned.ipac.caltech.edu/level5/March05/Graham/Graham2.html):\n",
    "\n",
    "$$ L_{\\rm tot} = I_e R_{\\rm eff}^2 2 \\pi n \\frac{e^{b_n}}{b_n^{2n}} \\Gamma(2n),$$"
   ]
  },
  {
   "cell_type": "code",
   "execution_count": null,
   "id": "b932427a-01a7-4a97-b498-046c9212d08b",
   "metadata": {},
   "outputs": [],
   "source": [
    "def total_flux ( amplitude, n, r_eff, ellip, **kwargs ):\n",
    "    # complete\n",
    "    return totflux\n"
   ]
  },
  {
   "cell_type": "markdown",
   "id": "fd8ed77b-377f-4cc4-a783-5b2918e655a8",
   "metadata": {},
   "source": [
    "## [1b] Instantiate our Sersic model\n",
    "Now that we have an implementation of the 2D Sersic, let's see how it looks for some simulated data."
   ]
  },
  {
   "cell_type": "code",
   "execution_count": null,
   "id": "17741097-f12e-4a9b-ac1b-fe5ecb1b4e1f",
   "metadata": {},
   "outputs": [],
   "source": [
    "y,x = np.mgrid[:512,:512]"
   ]
  },
  {
   "cell_type": "code",
   "execution_count": null,
   "id": "c1df69dc-a8f0-469a-888d-33a1883f2e75",
   "metadata": {},
   "outputs": [],
   "source": [
    "params_0 = {'amplitude': 10., 'n':1., 'r_eff':30., 'ellip':0.7, 'x_0':350, 'y_0':350}\n",
    "params_1 = {'amplitude': 1., 'n':2., 'r_eff':30., 'ellip':0.2, 'x_0':200, 'y_0':150}\n",
    "\n",
    "galaxy_0 = sersic2d(x, y, **params_0)\n",
    "galaxy_1 = sersic2d(x,y,**params_1)\n",
    "\n",
    "noise = np.random.normal(0., 1., x.shape)"
   ]
  },
  {
   "cell_type": "code",
   "execution_count": null,
   "id": "8bcda344-3b0a-42a0-ae8c-77a5c48dfe3a",
   "metadata": {},
   "outputs": [],
   "source": [
    "fig, axarr = plt.subplots(1,1,figsize=(6,6))\n",
    "our_imshow(# make a scene with two galaxies and a noisy background"
   ]
  },
  {
   "cell_type": "markdown",
   "id": "797774c5-19c4-4680-b1b8-5528eb2f9bd6",
   "metadata": {},
   "source": [
    "## [1c] Check your work"
   ]
  },
  {
   "cell_type": "markdown",
   "id": "4f98972b-a1b4-472d-9125-1d7e91cd6166",
   "metadata": {},
   "source": [
    "Astropy also has an implementation of the Sersic2D model -- let's now check our work against the distributed model."
   ]
  },
  {
   "cell_type": "code",
   "execution_count": null,
   "id": "a008d09d-d43b-4ce2-9164-20e598f1c3ae",
   "metadata": {},
   "outputs": [],
   "source": [
    "from astropy # get Sersic2D \n",
    "\n",
    "apgalaxy_0 = Sersic2D(**params_0)\n",
    "apgalaxy_1 = Sersic2D(**params_1)"
   ]
  },
  {
   "cell_type": "code",
   "execution_count": null,
   "id": "f4d2b1b4-f3e2-410d-9604-70936bdcfb7c",
   "metadata": {},
   "outputs": [],
   "source": [
    "# create an assert statement that checks if our model is equivalent to the astropy model"
   ]
  },
  {
   "cell_type": "code",
   "execution_count": null,
   "id": "fbdf1203-eae6-4428-831e-80d6de9a2492",
   "metadata": {},
   "outputs": [],
   "source": [
    "fig, axarr = plt.subplots(1,2,figsize=(9,4))\n",
    "our_imshow(# show our noisy galaxy image\n",
    "our_imshow(# show the noisy astropy galaxy image\n",
    "\n",
    "for ax in axarr:\n",
    "    ax.set_xticks([])\n",
    "    ax.set_yticks([])\n",
    "\n",
    "our_text(\n",
    "    0.025,\n",
    "    0.975,\n",
    "    'Our implementation',\n",
    "    fontsize=18,\n",
    "    color='w',\n",
    "    bordercolor='k',\n",
    "    borderwidth=3,\n",
    "    ax=axarr[0]\n",
    ")\n",
    "\n",
    "our_text(\n",
    "    0.025,\n",
    "    0.975,\n",
    "    'Astropy',\n",
    "    fontsize=18,\n",
    "    color='w',\n",
    "    bordercolor='k',\n",
    "    borderwidth=3,\n",
    "    ax=axarr[1]\n",
    ")\n",
    "plt.tight_layout ()"
   ]
  },
  {
   "cell_type": "markdown",
   "id": "f7b3ffb7-5b90-4641-8092-9421891c3fa7",
   "metadata": {},
   "source": [
    "And another way we can check our work is to see if our total flux is what we expect for each galaxy:"
   ]
  },
  {
   "cell_type": "code",
   "execution_count": null,
   "id": "97ea56ff-b179-4be5-ac0b-2b93339817ce",
   "metadata": {},
   "outputs": [],
   "source": [
    "print(# flux ratio between our galaxy 0 and the astropy galaxy 0\n",
    "print(# same for galaxy 1\n",
    "\n",
    "# These values should be >0.99!"
   ]
  },
  {
   "cell_type": "markdown",
   "id": "b04d121c-47df-4b16-8d34-b0bd653518b0",
   "metadata": {},
   "source": [
    "Let's also compute the magnitude of these galaxies, assuming that the pixel values are in nanojanskies:"
   ]
  },
  {
   "cell_type": "code",
   "execution_count": null,
   "id": "9a4b5395-ee56-4245-b629-f6d404312a5e",
   "metadata": {},
   "outputs": [],
   "source": [
    "def flux2mag ( flux ):\n",
    "    return # magnitude, assuming that pixels are in nJy. Remember that gAB = 3631 Jy!\n",
    "rmag_0 = flux2mag(total_flux(**params_0))\n",
    "rmag_1 = flux2mag(total_flux(**params_1))\n",
    "print(rmag_0, rmag_1)"
   ]
  },
  {
   "cell_type": "markdown",
   "id": "f2667196-f1e5-4c40-b65c-34c93969abb9",
   "metadata": {},
   "source": [
    "# Problem 2: Aperture photometry"
   ]
  },
  {
   "cell_type": "markdown",
   "id": "4246b153-8110-4679-b8d2-da631b6a3456",
   "metadata": {},
   "source": [
    "Now let's explore what aperture photometry looks like for extended sources. Here we're going to use elliptical apertures of the same shape as the Sersic profiles so that we can make sure our 1Reff aperture recovers half the total light from the galaxy."
   ]
  },
  {
   "cell_type": "markdown",
   "id": "feedd363-35e7-4feb-bb6a-e23398e06a60",
   "metadata": {},
   "source": [
    "## [2a] Construct an elliptical aperture"
   ]
  },
  {
   "cell_type": "code",
   "execution_count": null,
   "id": "ad3bd8b5-d93f-4c2b-896b-b95a759cff35",
   "metadata": {},
   "outputs": [],
   "source": [
    "def build_elliptical_aperture ( rmax, x, y, r_eff, ellip, x_0, y_0 ):\n",
    "    x = x - x_0\n",
    "    y = y - y_0\n",
    "    semiminor = # semiminor axis\n",
    "    ellipse = # ellipse equation\n",
    "    # \\\\ We're just going to make an elliptical mask as our aperture here -- in practice there\n",
    "    # \\\\ are more sophisticated ways to do this, but this will serve our purposes here.\n",
    "    regionauto = # make a mask that is True only within rmax\n",
    "    return regionauto"
   ]
  },
  {
   "cell_type": "markdown",
   "id": "48195f59-6640-4a23-a59a-c944f7b14be2",
   "metadata": {},
   "source": [
    "## [2b] Perform elliptical aperture photometry within 1$R_{\\rm eff}$\n",
    "\n",
    "By definition, an elliptical aperture at $R_{\\rm eff}$ should capture half the total flux -- let's check that for this case."
   ]
  },
  {
   "cell_type": "code",
   "execution_count": null,
   "id": "d099141b-8832-4f7a-ac5e-15b462679ab6",
   "metadata": {},
   "outputs": [],
   "source": [
    "our_imshow(# noisy galaxy image\n",
    "\n",
    "our_contour(build_elliptical_aperture(params_1['r_eff'], x,y, params_1['r_eff'], params_1['ellip'], params_1['x_0'], params_1['y_0'],),\n",
    "           colors='lime')\n",
    "our_contour(build_elliptical_aperture(params_0['r_eff'], x,y, params_0['r_eff'], params_0['ellip'], params_0['x_0'], params_0['y_0'],),\n",
    "           colors='lime')"
   ]
  },
  {
   "cell_type": "code",
   "execution_count": null,
   "id": "0dbb0f62-5dbf-42f9-a944-7647f5373e0c",
   "metadata": {},
   "outputs": [],
   "source": [
    "mask_0 = build_elliptical_aperture(params_0['r_eff'], x,y, params_0['r_eff'], params_0['ellip'], params_0['x_0'], params_0['y_0'],)\n",
    "mask_1 = build_elliptical_aperture(params_1['r_eff'], x,y, params_1['r_eff'], params_1['ellip'], params_1['x_0'], params_1['y_0'],)"
   ]
  },
  {
   "cell_type": "code",
   "execution_count": null,
   "id": "8b524a41-11fd-495d-aa43-c91cb26ec726",
   "metadata": {},
   "outputs": [],
   "source": [
    "# \\\\ We know that 1Re should contain half the flux of each galaxy -- check this!"
   ]
  },
  {
   "cell_type": "markdown",
   "id": "b0028fb5-b810-43cf-950f-9110597f4d3e",
   "metadata": {},
   "source": [
    "## [2c] Perform aperture photometry at $2R_{\\rm eff}$\n",
    "\n",
    "Because $R_{\\rm eff}$ is the aperture that contains half the luminosity, a naive guess for a good aperture might be twice that -- let's see how this performs."
   ]
  },
  {
   "cell_type": "code",
   "execution_count": null,
   "id": "84793ed2-85fa-4d65-bc0d-4efe97232b29",
   "metadata": {},
   "outputs": [],
   "source": [
    "our_imshow(# noisy galaxy scene\n",
    "\n",
    "our_contour(build_elliptical_aperture(2.*params_0['r_eff'], x,y, params_0['r_eff'], params_0['ellip'], params_0['x_0'], params_0['y_0'],),\n",
    "           colors='lime')\n",
    "our_contour(build_elliptical_aperture(2.*params_1['r_eff'], x,y, params_1['r_eff'], params_1['ellip'], params_1['x_0'], params_1['y_0'],),\n",
    "           colors='lime')"
   ]
  },
  {
   "cell_type": "code",
   "execution_count": null,
   "id": "4306e2e5-0fee-46d3-8399-61acf34ccc09",
   "metadata": {},
   "outputs": [],
   "source": [
    "mask_0 = build_elliptical_aperture(2.*params_0['r_eff'], x,y, params_0['r_eff'], params_0['ellip'], params_0['x_0'], params_0['y_0'],)\n",
    "mask_1 = build_elliptical_aperture(2.*params_1['r_eff'], x,y, params_1['r_eff'], params_1['ellip'], params_1['x_0'], params_1['y_0'],)"
   ]
  },
  {
   "cell_type": "code",
   "execution_count": null,
   "id": "82461249-122d-4266-92d0-65440b2a3c45",
   "metadata": {},
   "outputs": [],
   "source": [
    "# now look at the flux fraction contained. Is it higher or lower than what you expected?"
   ]
  },
  {
   "cell_type": "markdown",
   "id": "6427467c-2607-4036-831e-495679ac4fc4",
   "metadata": {},
   "source": [
    "# Problem 3: Model photometry"
   ]
  },
  {
   "cell_type": "markdown",
   "id": "f6d7dc8e-0dd5-4098-8e6f-a89e158e0da2",
   "metadata": {},
   "source": [
    "## [3a] Fitting a single Sersic\n",
    "\n",
    "First, let's write a function to fit a single Sersic to the data."
   ]
  },
  {
   "cell_type": "code",
   "execution_count": null,
   "id": "d5dd33a9-a140-49e3-8364-13cfe63a2582",
   "metadata": {},
   "outputs": [],
   "source": [
    "from astropy.modeling.fitting import LevMarLSQFitter"
   ]
  },
  {
   "cell_type": "code",
   "execution_count": null,
   "id": "872f771b-bffc-4c6d-b202-199bc5a026be",
   "metadata": {},
   "outputs": [],
   "source": [
    "def fit_sersic_2d(\n",
    "        image, \n",
    "        init_n=1., \n",
    "        init_r_eff=None, \n",
    "        init_ellip=0.5, \n",
    "        init_theta=0., \n",
    "        init_x_0=None, \n",
    "        init_y_0=None, \n",
    "        fixed_parameters=None, \n",
    "        nan_replace=0.\n",
    "    ):\n",
    "    image = np.where(np.isnan(image), nan_replace, image)\n",
    "    y, x = np.mgrid[:image.shape[0], :image.shape[1]]\n",
    "\n",
    "    # \\\\ for these initial parameter guesses, think about what a good starting\n",
    "    # \\\\ guess might be assuming that you are dealing with a galaxy that is small(ish)\n",
    "    # \\\\ compared to your cutout size\n",
    "    if init_x_0 is None:\n",
    "        # what should init_x_0 be if none is supplied?\n",
    "    if init_y_0 is None:\n",
    "        # what should init_y_0 be if none is supplied?\n",
    "    init_amplitude = # what should init_amplitude be if none is supplied?\n",
    "    \n",
    "    if init_r_eff is None:        \n",
    "        init_r_eff = # what should init_r_eff be if none is supplied?\n",
    "\n",
    "    sersic_init = # initialize Sersic with these parameters\n",
    "    if fixed_parameters is not None:\n",
    "        for param in fixed_parameters:\n",
    "            setattr(getattr(sersic_init, param), 'fixed', True)\n",
    "                    \n",
    "                \n",
    "    sersic_init.bounds.update ({\n",
    "        # update Sersic bounds as you see fit to converge on a good result\n",
    "        # consider -- what are the physically plausible bounds for each parameter?\n",
    "    })\n",
    "    fitter = # call the fitter\n",
    "\n",
    "    fitted_model = fitter(sersic_init, x, y, image)\n",
    "    im = # produce fitted image\n",
    "    return fitted_model, im"
   ]
  },
  {
   "cell_type": "code",
   "execution_count": null,
   "id": "161ecb9e-3222-4364-ab62-4a392f5872c2",
   "metadata": {},
   "outputs": [],
   "source": [
    "mock_image = # make single galaxy noisy image"
   ]
  },
  {
   "cell_type": "code",
   "execution_count": null,
   "id": "ceab08c0-0cf7-47e6-9573-b06013c5fb8e",
   "metadata": {},
   "outputs": [],
   "source": [
    "bestfit_model, bestfit_image = fit_sersic_2d(# fit your image"
   ]
  },
  {
   "cell_type": "code",
   "execution_count": null,
   "id": "7181763e-00b6-4a2a-8b69-e79385ad21cb",
   "metadata": {},
   "outputs": [],
   "source": [
    "fig, axarr = plt.subplots(1,3,figsize=(12,4))\n",
    "our_imshow(mock_image, ax=axarr[0])\n",
    "our_imshow(bestfit_image, ax=axarr[1])\n",
    "residual = # make residual image\n",
    "our_imshow(residual,ax=axarr[2],)\n",
    "# \\\\ you should see subtraction that is good to the image noise level here!"
   ]
  },
  {
   "cell_type": "markdown",
   "id": "e2d79635-92c6-4092-adb2-2c3dde432219",
   "metadata": {},
   "source": [
    "With reasonable guesses for the position and effective radius of the source, this does quite well -- as expected. But what if there's another galaxy nearby?"
   ]
  },
  {
   "cell_type": "code",
   "execution_count": null,
   "id": "0cf056f2-9cfe-4796-83c9-5bfe57a3d385",
   "metadata": {},
   "outputs": [],
   "source": [
    "params_2 = {'amplitude': 10., 'n':1., 'r_eff':60., 'ellip':0.2, 'x_0':300, 'y_0':300}\n",
    "galaxy_2 = sersic2d(x,y,**params_2)\n",
    "\n",
    "mock_image = # noisy galaxy scene with galaxy 2 added in addition to galaxy 0"
   ]
  },
  {
   "cell_type": "code",
   "execution_count": null,
   "id": "f50b878f-61ed-496f-96a4-5ecd5ab51d97",
   "metadata": {},
   "outputs": [],
   "source": [
    "bestfit_model, bestfit_image = fit_sersic_2d(# fit again)\n"
   ]
  },
  {
   "cell_type": "code",
   "execution_count": null,
   "id": "2a908612-0752-4c1a-b444-ee048ee43c96",
   "metadata": {},
   "outputs": [],
   "source": [
    "fig, axarr = plt.subplots(1,3,figsize=(12,4))\n",
    "our_imshow(mock_image, ax=axarr[0])\n",
    "our_imshow(bestfit_image, ax=axarr[1])\n",
    "residual = # make residual\n",
    "our_imshow(residual,ax=axarr[2],)"
   ]
  },
  {
   "cell_type": "markdown",
   "id": "578689e3-52f8-4920-a64f-b2f8205baec1",
   "metadata": {},
   "source": [
    "Not so great. But what if our model knows that multiple galaxies exist?"
   ]
  },
  {
   "cell_type": "markdown",
   "id": "a81bf983-477c-4b7c-9dd3-55b506967c68",
   "metadata": {},
   "source": [
    "## [3b] Fitting multiple models to a single scene"
   ]
  },
  {
   "cell_type": "code",
   "execution_count": null,
   "id": "5f63adb5-b4eb-47d7-962f-f7411febcbbc",
   "metadata": {},
   "outputs": [],
   "source": [
    "def fit_multi_sersic_2d(image, init_x_0, init_y_0, dx=0., dy=0., \n",
    "                        init_n=None, init_r_eff=None, init_ellip=None, \n",
    "                        init_theta=None, init_amplitude=None,\n",
    "                        fixed_parameters=None, nan_replace=0.):\n",
    "    \"\"\"\n",
    "    Fit multiple Sersic 2D profiles to an image with constrained position variations.\n",
    "    \n",
    "    Parameters:\n",
    "    -----------\n",
    "    image : array_like\n",
    "        2D image to fit\n",
    "    init_x_0 : list or array\n",
    "        Initial x positions for each Sersic component\n",
    "    init_y_0 : list or array  \n",
    "        Initial y positions for each Sersic component\n",
    "    dx : float, optional\n",
    "        Maximum allowed variation in x direction from initial positions (default: 0)\n",
    "    dy : float, optional\n",
    "        Maximum allowed variation in y direction from initial positions (default: 0)\n",
    "    init_n : list, array, or float, optional\n",
    "        Initial Sersic indices. If scalar, same value used for all components (default: 1.0)\n",
    "    init_r_eff : list, array, or float, optional\n",
    "        Initial effective radii. If None, estimated from image size (default: None)\n",
    "    init_ellip : list, array, or float, optional\n",
    "        Initial ellipticities. If scalar, same value used for all components (default: 0.5)\n",
    "    init_theta : list, array, or float, optional\n",
    "        Initial position angles. If scalar, same value used for all components (default: 0.0)\n",
    "    init_amplitude : list, array, or float, optional\n",
    "        Initial amplitudes. If None, estimated from image values at positions (default: None)\n",
    "    fixed_parameters : dict, optional\n",
    "        Dictionary with component index as key and list of parameter names to fix as values\n",
    "        e.g., {0: ['n', 'theta'], 1: ['ellip']}\n",
    "    nan_replace : float, optional\n",
    "        Value to replace NaNs with (default: 0.0)\n",
    "        \n",
    "    Returns:\n",
    "    --------\n",
    "    fitted_model : astropy compound model\n",
    "        The fitted multi-component Sersic model\n",
    "    model_image : array_like\n",
    "        2D array of the fitted model evaluated on the image grid\n",
    "    \"\"\"\n",
    "    \n",
    "    # Handle NaNs\n",
    "    image = np.where(np.isnan(image), nan_replace, image)\n",
    "    y, x = np.mgrid[:image.shape[0], :image.shape[1]]\n",
    "    \n",
    "    # Convert inputs to lists and validate\n",
    "    init_x_0 = np.atleast_1d(init_x_0)\n",
    "    init_y_0 = np.atleast_1d(init_y_0)\n",
    "    n_components = len(init_x_0)\n",
    "    \n",
    "    if len(init_y_0) != n_components:\n",
    "        raise ValueError(\"init_x_0 and init_y_0 must have the same length\")\n",
    "    \n",
    "    def broadcast_param(param, default_val, param_name):\n",
    "        # most of the parameters can take a scalar (float) OR array-like input\n",
    "        # write a function to handle the scalar case given that the Sersic\n",
    "        # initialization will need a vector of length N (where N=number of galaxies)\n",
    "    \n",
    "    # Set up parameter lists\n",
    "    init_n_list = broadcast_param(init_n, 1.0, 'init_n')\n",
    "    init_ellip_list = broadcast_param(init_ellip, 0.5, 'init_ellip')\n",
    "    init_theta_list = broadcast_param(init_theta, 0.0, 'init_theta')\n",
    "    \n",
    "    # Handle r_eff - estimate if not provided\n",
    "    if init_r_eff is None:\n",
    "        default_r_eff = min(image.shape) / 10\n",
    "        init_r_eff_list = [default_r_eff] * n_components\n",
    "    else:\n",
    "        init_r_eff_list = broadcast_param(init_r_eff, min(image.shape) / 10, 'init_r_eff')\n",
    "    \n",
    "    # Handle amplitude - estimate from image if not provided\n",
    "    if init_amplitude is None:\n",
    "        init_amplitude_list = []\n",
    "        for i in range(n_components):\n",
    "            x_idx = # don't let the galaxies run off the cutout\n",
    "            y_idx = # don't let the galaxies run off the cutout\n",
    "            init_amplitude_list.append(# what's a good amplitude initialization? )\n",
    "                # hint: if the initial position guess is correct, what is the amplitude?\n",
    "    else:\n",
    "        init_amplitude_list = broadcast_param(init_amplitude, 1.0, 'init_amplitude')\n",
    "    \n",
    "    # Create individual Sersic models\n",
    "    sersic_models = []\n",
    "    for i in range(n_components):\n",
    "        sersic = Sersic2D(\n",
    "            # initialize galaxy i\n",
    "        )\n",
    "        \n",
    "        # Set bounds for this component\n",
    "        sersic.bounds.update({\n",
    "            # set bounds for galaxy i\n",
    "        })\n",
    "        \n",
    "        # Apply fixed parameters if specified\n",
    "        if fixed_parameters is not None and i in fixed_parameters:\n",
    "            for param in fixed_parameters[i]:\n",
    "                setattr(getattr(sersic, param), 'fixed', True)\n",
    "        \n",
    "        sersic_models.append(sersic)\n",
    "    \n",
    "    # Create compound model\n",
    "    if n_components == 1:\n",
    "        compound_model = # complete\n",
    "    else:\n",
    "        compound_model = sersic_models[0]\n",
    "        for i in range(1, n_components):\n",
    "            compound_model = # add each model to create a compound model\n",
    "    \n",
    "    # Fit the model\n",
    "    fitter = LevMarLSQFitter()\n",
    "    fitted_model = # do fitting\n",
    "    \n",
    "    # Generate model image\n",
    "    model_image = # get fitted image\n",
    "    \n",
    "    return fitted_model, model_image\n"
   ]
  },
  {
   "cell_type": "markdown",
   "id": "9d8f5bab-7ad6-4742-818f-7143fb2cde17",
   "metadata": {},
   "source": [
    "Now let's try re-fitting the same scene"
   ]
  },
  {
   "cell_type": "code",
   "execution_count": null,
   "id": "f4798118-5919-4c8f-920c-7f3bb86fcc85",
   "metadata": {},
   "outputs": [],
   "source": [
    "params_2 = {'amplitude': 10., 'n':1., 'r_eff':60., 'ellip':0.2, 'x_0':300, 'y_0':300}\n",
    "galaxy_2 = sersic2d(x,y,**params_2)\n",
    "\n",
    "mock_image = galaxy_0 + galaxy_2 + noise"
   ]
  },
  {
   "cell_type": "code",
   "execution_count": null,
   "id": "9feccea7-dc0a-475b-a351-f2b5de896373",
   "metadata": {},
   "outputs": [],
   "source": [
    "bestfit_model, bestfit_image = fit_multi_sersic_2d(\n",
    "    mock_image, \n",
    "    init_x_0=# feed in initial positions\n",
    "    init_y_0=# feed in initial positions\n",
    "    init_r_eff=[30.,60.],\n",
    "    fixed_parameters=('x_0','y_0')\n",
    ")\n"
   ]
  },
  {
   "cell_type": "code",
   "execution_count": null,
   "id": "79116f1c-64e3-4e47-a533-bdcbb1eb73dc",
   "metadata": {},
   "outputs": [],
   "source": [
    "fig, axarr = plt.subplots(1,3,figsize=(12,4))\n",
    "our_imshow(mock_image, ax=axarr[0])\n",
    "our_imshow(bestfit_image, ax=axarr[1])\n",
    "residual = # make residual\n",
    "our_imshow(residual,ax=axarr[2],)"
   ]
  },
  {
   "cell_type": "markdown",
   "id": "bd99cf05-89e5-465c-ab77-12282b8966d7",
   "metadata": {},
   "source": [
    "## [3c] Challenge problem: probabilistically fit a scene of galaxies without prior knowledge of the number or properties of galaxies in the scene"
   ]
  },
  {
   "cell_type": "markdown",
   "id": "b10156c7-6813-43c9-b17a-2ee1fef78000",
   "metadata": {},
   "source": [
    "# Problem 4: Multiband photometry"
   ]
  },
  {
   "cell_type": "markdown",
   "id": "f70fac40-ce23-41e0-8cd0-531ba060f571",
   "metadata": {},
   "source": [
    "If you have all of the above notebook working, try convolving your galaxies with a Gaussian PSF to explore the effects of variations in image quality. In particular:"
   ]
  },
  {
   "cell_type": "code",
   "execution_count": null,
   "id": "3b751748-22c8-4339-bc77-09b281436856",
   "metadata": {},
   "outputs": [],
   "source": [
    "from scipy.ndimage import convolve"
   ]
  },
  {
   "cell_type": "markdown",
   "id": "f7d17819-7bfa-4a5e-b478-bd67d747e701",
   "metadata": {},
   "source": [
    "## [4a] False color gradients"
   ]
  },
  {
   "cell_type": "markdown",
   "id": "3bf9888c-d82f-4807-a6ac-bd8d79ad3c6a",
   "metadata": {},
   "source": [
    "First, let's see what happens if we have two different PSFs and we just subtract out one from the other."
   ]
  },
  {
   "cell_type": "code",
   "execution_count": null,
   "id": "1bceaffe-1a67-4414-b7fb-684c54de1a78",
   "metadata": {},
   "outputs": [],
   "source": [
    "def gaussian2d(x, y, A, m, s):\n",
    "    '''\n",
    "    2D axisymmetric Gaussian\n",
    "    \n",
    "    Parameters:\n",
    "    -----------\n",
    "    x, y : array-like\n",
    "        Coordinate arrays\n",
    "    A : float or 'normalize'\n",
    "        Amplitude (or 'normalize' for unit integral)\n",
    "    m : array-like\n",
    "        Center coordinates\n",
    "    s : float\n",
    "        Standard deviation (same for both x and y)\n",
    "    '''\n",
    "    if A == 'normalize':\n",
    "        A = 1.0 / (2 * np.pi * s**2)\n",
    "    \n",
    "    # Radial distance from center\n",
    "    r_squared = (x - m[0])**2 + (y - m[1])**2\n",
    "    \n",
    "    return A * np.exp(-r_squared / (2 * s**2))"
   ]
  },
  {
   "cell_type": "code",
   "execution_count": null,
   "id": "7f5bf7e5-4f65-4370-b44c-063f3cc387d7",
   "metadata": {},
   "outputs": [],
   "source": [
    "psf_size = 65\n",
    "pc = (psf_size-1)//2\n",
    "psf_y,psf_x = np.mgrid[:psf_size,:psf_size]\n",
    "\n",
    "f_std = 2.\n",
    "g_std = 10.\n",
    "\n",
    "f_psf = gaussian2d(psf_x,psf_y,'normalize',(pc,pc),f_std)\n",
    "g_psf = gaussian2d(psf_x,psf_y,'normalize',(pc,pc),g_std)"
   ]
  },
  {
   "cell_type": "code",
   "execution_count": null,
   "id": "97a48e19-6a27-4ee9-9af8-47e030413b77",
   "metadata": {},
   "outputs": [],
   "source": [
    "y,x = np.mgrid[:512,:512]\n",
    "sxy = # make galaxy"
   ]
  },
  {
   "cell_type": "code",
   "execution_count": null,
   "id": "e2b6547d-0523-424f-aea3-57b1d1c228e5",
   "metadata": {},
   "outputs": [],
   "source": [
    "g_img = # make g PSF - convolved image\n",
    "f_img = # maek f PSF-convolved image"
   ]
  },
  {
   "cell_type": "code",
   "execution_count": null,
   "id": "7439a6eb-1b43-4a31-845e-3449630912b8",
   "metadata": {},
   "outputs": [],
   "source": [
    "fig, axarr = plt.subplots(1,3,figsize=(12,4))\n",
    "our_imshow(f_img, ax=axarr[0])\n",
    "our_imshow(g_img, ax=axarr[1])\n",
    "residual = # residual\n",
    "axarr[2].imshow(residual, cmap='coolwarm_r', vmin=-2., vmax=2, origin='lower')"
   ]
  },
  {
   "cell_type": "markdown",
   "id": "594ff19b-eb59-4a4c-8105-8aaf8f431b33",
   "metadata": {},
   "source": [
    "## [4b] A Gaussian matching kernel"
   ]
  },
  {
   "cell_type": "markdown",
   "id": "4262cdae-8b4d-4fcf-b798-92619bb6b7d6",
   "metadata": {},
   "source": [
    "Here, we're going to take advantage of the fact that the convolution of two Gaussians is a Gaussian to get an analytic solution to our matching kernel and avoid a lot of the numerical instability often found in PSF matching."
   ]
  },
  {
   "cell_type": "code",
   "execution_count": null,
   "id": "236ba109-8877-4c83-9bdc-5df1516f0e08",
   "metadata": {},
   "outputs": [],
   "source": [
    "def gaussian_matching_kernel(sigma1, sigma2, size):\n",
    "    \"\"\"Create Gaussian matching kernel to convolve sigma1 PSF to sigma2 PSF\"\"\"\n",
    "    if sigma2 <= sigma1:\n",
    "        raise ValueError(\"Cannot improve seeing: sigma2 must be > sigma1\")\n",
    "    \n",
    "    sigma_kernel = # What's the standard deviation of a convolution of two Gaussians?\n",
    "\n",
    "    x, y = np.meshgrid(np.arange(size) - size//2, np.arange(size) - size//2)\n",
    "    kernel = # What's the kernel, knowing that it's also a Gaussian in form?\n",
    "    kernel /= np.sum(kernel)  # normalize\n",
    "    \n",
    "    return kernel"
   ]
  },
  {
   "cell_type": "code",
   "execution_count": null,
   "id": "695113a9-90d0-4555-aa96-dd68638557f9",
   "metadata": {},
   "outputs": [],
   "source": [
    "matching_kernel = gaussian_matching_kernel(f_std, g_std, f_psf.shape[0])"
   ]
  },
  {
   "cell_type": "code",
   "execution_count": null,
   "id": "29e54466-9313-48bb-9366-0ef62cddbd7e",
   "metadata": {},
   "outputs": [],
   "source": [
    "f_img_convolved = convolve(f_img, matching_kernel)"
   ]
  },
  {
   "cell_type": "code",
   "execution_count": null,
   "id": "414fbac0-d53a-4bf7-bf75-34c964367a37",
   "metadata": {},
   "outputs": [],
   "source": [
    "fig, axarr = plt.subplots(1,3,figsize=(12,4))\n",
    "our_imshow(f_img_convolved, ax=axarr[0])\n",
    "our_imshow(g_img, ax=axarr[1])\n",
    "residual_matched = # get residual\n",
    "axarr[2].imshow(residual_matched, cmap='coolwarm_r', vmin=-2., vmax=2, origin='lower')"
   ]
  },
  {
   "cell_type": "code",
   "execution_count": null,
   "id": "24d34771-e360-4f71-9cc7-a12e3e2c2ad9",
   "metadata": {},
   "outputs": [],
   "source": []
  }
 ],
 "metadata": {
  "kernelspec": {
   "display_name": "Python 3 (ipykernel)",
   "language": "python",
   "name": "python3"
  },
  "language_info": {
   "codemirror_mode": {
    "name": "ipython",
    "version": 3
   },
   "file_extension": ".py",
   "mimetype": "text/x-python",
   "name": "python",
   "nbconvert_exporter": "python",
   "pygments_lexer": "ipython3",
   "version": "3.10.17"
  }
 },
 "nbformat": 4,
 "nbformat_minor": 5
}
